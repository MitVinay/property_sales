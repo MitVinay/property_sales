{
 "cells": [
  {
   "cell_type": "code",
   "execution_count": 1,
   "metadata": {},
   "outputs": [],
   "source": [
    "import pandas as pd\n"
   ]
  },
  {
   "cell_type": "code",
   "execution_count": 10,
   "metadata": {},
   "outputs": [],
   "source": [
    "import os\n",
    "data_dir = '/Users/bijubiju/Desktop/databases/australia_property_data/nsw/2023'\n",
    "zip_dat_files = os.listdir(data_dir)\n",
    "zip_dat_files = [f for f in zip_dat_files if f.endswith('.zip')]\n"
   ]
  },
  {
   "cell_type": "code",
   "execution_count": 29,
   "metadata": {},
   "outputs": [],
   "source": [
    "import zipfile\n",
    "def parse_title_references(zip_path,dat_filename):\n",
    "    \"\"\"\n",
    "    Parse title references from a DAT file\n",
    "    \n",
    "    Args:\n",
    "        file_path (str): Path to the DAT file\n",
    "    \"\"\"\n",
    "    # Read the file\n",
    "    with zipfile.ZipFile(zip_path, 'r') as zip_file:\n",
    "        with zip_file.open(dat_filename) as file:\n",
    "            # Read and decode the file\n",
    "            data = file.read().decode('utf-8')\n",
    "    # Split the data into lines and filter for C records\n",
    "    lines = [line.strip() for line in data.split('\\n') if line.strip().startswith('B')]\n",
    "    \n",
    "    # Parse each C record\n",
    "    records = []\n",
    "    for line in lines:\n",
    "        fields = line.split(';')\n",
    "        record = {\n",
    "            'district_code': fields[1],\n",
    "            'property_id': fields[2],\n",
    "            'sale_counter': fields[3],\n",
    "            'download_datetime': fields[4],\n",
    "            'property_name': fields[5],\n",
    "            'unit_number': fields[6],\n",
    "            'house_number': fields[7],\n",
    "            'street_name': fields[8],\n",
    "            'locality': fields[9],\n",
    "            'post_code': fields[10],\n",
    "            'area': fields[11],\n",
    "            'area_type': fields[12],\n",
    "            'contract_date': fields[13],\n",
    "            'settlement_date': fields[14],\n",
    "            'purchase_price': fields[15],\n",
    "            'zoning': fields[16],\n",
    "            'nature_of_property': fields[17],\n",
    "            'primary_purpose': fields[18],\n",
    "            'strata_lot_number': fields[19],\n",
    "            'component_code': fields[20],\n",
    "            'sale_code': fields[21],\n",
    "            'interest_percentage': fields[22],\n",
    "            'dealing_number': fields[23]\n",
    "        }\n",
    "        records.append(record)\n",
    "    \n",
    "    # Convert to DataFrame\n",
    "    df = pd.DataFrame(records)\n",
    "    \n",
    "    # Convert dates and numeric fields\n",
    "    df['download_datetime'] = pd.to_datetime(df['download_datetime'], format='%Y%m%d %H:%M', errors='coerce')\n",
    "    df['contract_date'] = pd.to_datetime(df['contract_date'], format='%Y%m%d', errors='coerce')\n",
    "    df['settlement_date'] = pd.to_datetime(df['settlement_date'], format='%Y%m%d', errors='coerce')\n",
    "    df['purchase_price'] = pd.to_numeric(df['purchase_price'], errors='coerce')\n",
    "    df['area'] = pd.to_numeric(df['area'], errors='coerce')\n",
    "    \n",
    "    return df\n",
    "\n",
    "# Example usage\n"
   ]
  },
  {
   "cell_type": "code",
   "execution_count": 36,
   "metadata": {},
   "outputs": [],
   "source": [
    "from zipfile import ZipFile\n",
    "all_dfs = []\n",
    "for zip_file in zip_dat_files:\n",
    "        zip_path = os.path.join(data_dir, zip_file)\n",
    "        \n",
    "        with ZipFile(zip_path, 'r') as zip_ref:\n",
    "        \n",
    "            # Get list of .dat files in the ZIP\n",
    "            \n",
    "            dat_files = [f for f in zip_ref.namelist() if f.endswith('.DAT')]\n",
    "            \n",
    "            # Process each .dat file\n",
    "            for dat_file in dat_files:\n",
    "                \n",
    "                # Read directly from the ZIP file without extracting\n",
    "                #zip_path = \"/Users/bijubiju/Desktop/databases/australia_property_data/nsw/2023/20230102.zip\"\n",
    "                #dat_filename = \"004_SALES_DATA_NNME_02012023.DAT\"\n",
    "\n",
    "                df =parse_title_references(zip_path=zip_path,dat_filename=dat_file)\n",
    "                all_dfs.append(df)\n",
    "    \n",
    "full_df = pd.concat(all_dfs,ignore_index=True)"
   ]
  },
  {
   "cell_type": "code",
   "execution_count": 37,
   "metadata": {},
   "outputs": [],
   "source": [
    "full_df.to_csv('2023_property_data')"
   ]
  }
 ],
 "metadata": {
  "kernelspec": {
   "display_name": "venv",
   "language": "python",
   "name": "python3"
  },
  "language_info": {
   "codemirror_mode": {
    "name": "ipython",
    "version": 3
   },
   "file_extension": ".py",
   "mimetype": "text/x-python",
   "name": "python",
   "nbconvert_exporter": "python",
   "pygments_lexer": "ipython3",
   "version": "3.10.15"
  }
 },
 "nbformat": 4,
 "nbformat_minor": 2
}

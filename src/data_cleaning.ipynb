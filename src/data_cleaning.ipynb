{
 "cells": [
  {
   "cell_type": "code",
   "execution_count": 2,
   "metadata": {},
   "outputs": [],
   "source": [
    "import dask\n",
    "import pandas as pd"
   ]
  },
  {
   "cell_type": "code",
   "execution_count": null,
   "metadata": {},
   "outputs": [],
   "source": [
    "df = pd.read_csv(\"../data/property_data/2023_property_data.csv\")"
   ]
  },
  {
   "cell_type": "code",
   "execution_count": 5,
   "metadata": {},
   "outputs": [],
   "source": [
    "df.drop(axis=1,columns=[\"Unnamed: 0\",\"property_id\",\"sale_counter\",\"property_name\",\"unit_number\",\"house_number\",\"street_name\",\"strata_lot_number\",\n",
    "                        \"sale_code\",\"interest_percentage\",\"dealing_number\"],inplace=True)"
   ]
  },
  {
   "cell_type": "code",
   "execution_count": 9,
   "metadata": {},
   "outputs": [
    {
     "data": {
      "text/plain": [
       "district_code             0\n",
       "download_datetime         0\n",
       "locality                  0\n",
       "post_code                 2\n",
       "area                  41169\n",
       "area_type             41169\n",
       "contract_date            11\n",
       "settlement_date           0\n",
       "purchase_price            0\n",
       "zoning                76001\n",
       "nature_of_property        0\n",
       "primary_purpose           7\n",
       "component_code        76001\n",
       "dtype: int64"
      ]
     },
     "execution_count": 9,
     "metadata": {},
     "output_type": "execute_result"
    }
   ],
   "source": [
    "df.isna().sum()"
   ]
  },
  {
   "cell_type": "code",
   "execution_count": null,
   "metadata": {},
   "outputs": [],
   "source": []
  },
  {
   "cell_type": "code",
   "execution_count": 10,
   "metadata": {},
   "outputs": [],
   "source": [
    "# removing rows without postcodes\n",
    "df= df[df[\"post_code\"].notna()]"
   ]
  },
  {
   "cell_type": "code",
   "execution_count": 17,
   "metadata": {},
   "outputs": [],
   "source": [
    "# add year and month\n",
    "df[\"settlement_date\"]=pd.to_datetime(df[\"settlement_date\"])\n",
    "df[\"year\"]=df[\"settlement_date\"].dt.year\n",
    "df[\"month\"]=df[\"settlement_date\"].dt.month"
   ]
  },
  {
   "cell_type": "code",
   "execution_count": 20,
   "metadata": {},
   "outputs": [
    {
     "data": {
      "text/html": [
       "<div>\n",
       "<style scoped>\n",
       "    .dataframe tbody tr th:only-of-type {\n",
       "        vertical-align: middle;\n",
       "    }\n",
       "\n",
       "    .dataframe tbody tr th {\n",
       "        vertical-align: top;\n",
       "    }\n",
       "\n",
       "    .dataframe thead th {\n",
       "        text-align: right;\n",
       "    }\n",
       "</style>\n",
       "<table border=\"1\" class=\"dataframe\">\n",
       "  <thead>\n",
       "    <tr style=\"text-align: right;\">\n",
       "      <th></th>\n",
       "      <th>district_code</th>\n",
       "      <th>download_datetime</th>\n",
       "      <th>locality</th>\n",
       "      <th>post_code</th>\n",
       "      <th>area</th>\n",
       "      <th>area_type</th>\n",
       "      <th>contract_date</th>\n",
       "      <th>settlement_date</th>\n",
       "      <th>purchase_price</th>\n",
       "      <th>zoning</th>\n",
       "      <th>nature_of_property</th>\n",
       "      <th>primary_purpose</th>\n",
       "      <th>component_code</th>\n",
       "      <th>year</th>\n",
       "      <th>month</th>\n",
       "    </tr>\n",
       "  </thead>\n",
       "  <tbody>\n",
       "    <tr>\n",
       "      <th>0</th>\n",
       "      <td>1</td>\n",
       "      <td>2023-03-13 01:05:00</td>\n",
       "      <td>CESSNOCK</td>\n",
       "      <td>2325.0</td>\n",
       "      <td>2.503</td>\n",
       "      <td>H</td>\n",
       "      <td>2023-03-01</td>\n",
       "      <td>2023-03-03</td>\n",
       "      <td>6480000</td>\n",
       "      <td>RU2</td>\n",
       "      <td>3</td>\n",
       "      <td>COMMERCIAL</td>\n",
       "      <td>RAL</td>\n",
       "      <td>2023</td>\n",
       "      <td>3</td>\n",
       "    </tr>\n",
       "    <tr>\n",
       "      <th>1</th>\n",
       "      <td>1</td>\n",
       "      <td>2023-03-13 01:05:00</td>\n",
       "      <td>ELLALONG</td>\n",
       "      <td>2325.0</td>\n",
       "      <td>1500.000</td>\n",
       "      <td>M</td>\n",
       "      <td>2023-01-30</td>\n",
       "      <td>2023-03-02</td>\n",
       "      <td>780000</td>\n",
       "      <td>RU5</td>\n",
       "      <td>R</td>\n",
       "      <td>RESIDENCE</td>\n",
       "      <td>RAB</td>\n",
       "      <td>2023</td>\n",
       "      <td>3</td>\n",
       "    </tr>\n",
       "    <tr>\n",
       "      <th>2</th>\n",
       "      <td>1</td>\n",
       "      <td>2023-03-13 01:05:00</td>\n",
       "      <td>CLIFTLEIGH</td>\n",
       "      <td>2321.0</td>\n",
       "      <td>466.800</td>\n",
       "      <td>M</td>\n",
       "      <td>2023-01-30</td>\n",
       "      <td>2023-03-06</td>\n",
       "      <td>810000</td>\n",
       "      <td>R2</td>\n",
       "      <td>R</td>\n",
       "      <td>RESIDENCE</td>\n",
       "      <td>AAP</td>\n",
       "      <td>2023</td>\n",
       "      <td>3</td>\n",
       "    </tr>\n",
       "    <tr>\n",
       "      <th>3</th>\n",
       "      <td>1</td>\n",
       "      <td>2023-03-13 01:05:00</td>\n",
       "      <td>ABERDARE</td>\n",
       "      <td>2325.0</td>\n",
       "      <td>1012.000</td>\n",
       "      <td>M</td>\n",
       "      <td>2023-02-08</td>\n",
       "      <td>2023-03-07</td>\n",
       "      <td>670000</td>\n",
       "      <td>R2</td>\n",
       "      <td>R</td>\n",
       "      <td>RESIDENCE</td>\n",
       "      <td>AAD</td>\n",
       "      <td>2023</td>\n",
       "      <td>3</td>\n",
       "    </tr>\n",
       "    <tr>\n",
       "      <th>4</th>\n",
       "      <td>1</td>\n",
       "      <td>2023-03-13 01:05:00</td>\n",
       "      <td>CESSNOCK</td>\n",
       "      <td>2325.0</td>\n",
       "      <td>735.810</td>\n",
       "      <td>M</td>\n",
       "      <td>2023-02-14</td>\n",
       "      <td>2023-03-03</td>\n",
       "      <td>715000</td>\n",
       "      <td>R2</td>\n",
       "      <td>R</td>\n",
       "      <td>RESIDENCE</td>\n",
       "      <td>AAB</td>\n",
       "      <td>2023</td>\n",
       "      <td>3</td>\n",
       "    </tr>\n",
       "  </tbody>\n",
       "</table>\n",
       "</div>"
      ],
      "text/plain": [
       "   district_code    download_datetime    locality  post_code      area  \\\n",
       "0              1  2023-03-13 01:05:00    CESSNOCK     2325.0     2.503   \n",
       "1              1  2023-03-13 01:05:00    ELLALONG     2325.0  1500.000   \n",
       "2              1  2023-03-13 01:05:00  CLIFTLEIGH     2321.0   466.800   \n",
       "3              1  2023-03-13 01:05:00    ABERDARE     2325.0  1012.000   \n",
       "4              1  2023-03-13 01:05:00    CESSNOCK     2325.0   735.810   \n",
       "\n",
       "  area_type contract_date settlement_date  purchase_price zoning  \\\n",
       "0         H    2023-03-01      2023-03-03         6480000    RU2   \n",
       "1         M    2023-01-30      2023-03-02          780000    RU5   \n",
       "2         M    2023-01-30      2023-03-06          810000     R2   \n",
       "3         M    2023-02-08      2023-03-07          670000     R2   \n",
       "4         M    2023-02-14      2023-03-03          715000     R2   \n",
       "\n",
       "  nature_of_property primary_purpose component_code  year  month  \n",
       "0                  3      COMMERCIAL            RAL  2023      3  \n",
       "1                  R       RESIDENCE            RAB  2023      3  \n",
       "2                  R       RESIDENCE            AAP  2023      3  \n",
       "3                  R       RESIDENCE            AAD  2023      3  \n",
       "4                  R       RESIDENCE            AAB  2023      3  "
      ]
     },
     "execution_count": 20,
     "metadata": {},
     "output_type": "execute_result"
    }
   ],
   "source": [
    "df.head()"
   ]
  }
 ],
 "metadata": {
  "kernelspec": {
   "display_name": "venv",
   "language": "python",
   "name": "python3"
  },
  "language_info": {
   "codemirror_mode": {
    "name": "ipython",
    "version": 3
   },
   "file_extension": ".py",
   "mimetype": "text/x-python",
   "name": "python",
   "nbconvert_exporter": "python",
   "pygments_lexer": "ipython3",
   "version": "3.10.15"
  }
 },
 "nbformat": 4,
 "nbformat_minor": 2
}
